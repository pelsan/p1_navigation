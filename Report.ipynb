{
 "cells": [
  {
   "cell_type": "markdown",
   "metadata": {},
   "source": [
    "# Report \n",
    "---\n",
    "This report describe the follow points:\n",
    "    Learning Algorithm,\n",
    "    Plot of Rewards,\n",
    "    Ideas for Future Work.\n"
   ]
  },
  {
   "cell_type": "markdown",
   "metadata": {},
   "source": [
    "### 1. Learning Algorithm"
   ]
  },
  {
   "cell_type": "markdown",
   "metadata": {},
   "source": [
    "In order to resolve the problem, we used the Deep Q-Learning Algorithm, this algorithm uses a neural network that maps input states to action-Qvalue pairs and use a replay experience to get better result.\n",
    "\n",
    "Each state and his values that we receive of the environment, we use them to input a neural network as input layer. so, the size of the input layer is the number of the states. the hidden layer processes the information in some layers then return de data to an output layer that is the possible actions to take, so the size of the output layer is de numbers of actions that we can take in this specific environment.\n",
    "\n",
    "The algorithm is deep q-learning with experience replay, first we initialize the memory replay and weights and then we do two process that repeats for train the agent.\n",
    "\n",
    "The first is where we run the environment and observe and collect tuples into a replay memory, for this we have a module to manage it, it can add tuples \"state\", \"action\", \"reward\", \"next state\", \"done\", and store in a fixed memory \n",
    "\n",
    "the second is where and it can sample a few of that memory by a batch-size that we define, so we can select randomly of this memory replay an use (sample method) for train an learn the agent."
   ]
  },
  {
   "cell_type": "markdown",
   "metadata": {},
   "source": [
    "Deep Q-Learning Algorithm\n",
    "\n",
    "![title](arq.png)\n",
    "\n",
    "The arquitecture used is the input layer, two hidden layer and a output layer"
   ]
  },
  {
   "cell_type": "markdown",
   "metadata": {},
   "source": [
    "The Hyperparameter that we use are:\n",
    "\n",
    "Model: \n",
    "\n",
    "    1 Input Layer,  size = 37\n",
    "    2 Hidden layers   nodes = 64  \n",
    "    1 Outpur Layer size = 4\n",
    " \n",
    " \n",
    "Replay Memory = 100,000\n",
    "\n",
    "Batch Size = 64      (number of samples to learn)\n",
    "\n",
    "GAMMA = 0.99         (discount factor)\n",
    "\n",
    "TAU = 1e-3           (for soft update of target parameters)\n",
    "\n",
    "LR  = 5e-4           (learning rate )\n"
   ]
  },
  {
   "cell_type": "markdown",
   "metadata": {},
   "source": [
    "First we train de model with size 64 for the hidden layers and we got success at 500 episodes, after we set the size of the hidden layers to 128 and we the same results."
   ]
  },
  {
   "cell_type": "markdown",
   "metadata": {},
   "source": [
    "### 2. Plot of Rewards"
   ]
  },
  {
   "cell_type": "markdown",
   "metadata": {},
   "source": [
    "After running the training process many times we get success about 500 episodes , the score we set to succeed is 13."
   ]
  },
  {
   "cell_type": "markdown",
   "metadata": {},
   "source": [
    "Training size 64 hidden layer\n",
    "![title](plot.png)"
   ]
  },
  {
   "cell_type": "markdown",
   "metadata": {},
   "source": [
    "### 3. Ideas for Future Work"
   ]
  },
  {
   "cell_type": "markdown",
   "metadata": {},
   "source": [
    "The trained model works fine, but sometimes it get stuck, it could be because need more training in order to detect that loops and learn to avoid these, i did some tests with score at 15 in order to get more episodes but the loops appers sometimes, it could be adding more hidden layers."
   ]
  },
  {
   "cell_type": "code",
   "execution_count": null,
   "metadata": {},
   "outputs": [],
   "source": []
  }
 ],
 "metadata": {
  "kernelspec": {
   "display_name": "Python 3",
   "language": "python",
   "name": "python3"
  },
  "language_info": {
   "codemirror_mode": {
    "name": "ipython",
    "version": 3
   },
   "file_extension": ".py",
   "mimetype": "text/x-python",
   "name": "python",
   "nbconvert_exporter": "python",
   "pygments_lexer": "ipython3",
   "version": "3.8.5"
  }
 },
 "nbformat": 4,
 "nbformat_minor": 4
}
